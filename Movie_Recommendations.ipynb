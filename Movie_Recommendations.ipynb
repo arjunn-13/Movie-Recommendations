{
  "nbformat": 4,
  "nbformat_minor": 0,
  "metadata": {
    "colab": {
      "name": "Movie_Recommendations.ipynb",
      "provenance": [],
      "authorship_tag": "ABX9TyPOpRa/cB1D8Q+EXpl+Fywu",
      "include_colab_link": true
    },
    "kernelspec": {
      "name": "python3",
      "display_name": "Python 3"
    },
    "language_info": {
      "name": "python"
    }
  },
  "cells": [
    {
      "cell_type": "markdown",
      "metadata": {
        "id": "view-in-github",
        "colab_type": "text"
      },
      "source": [
        "<a href=\"https://colab.research.google.com/github/arjunn-13/Movie-Recommendations/blob/main/Movie_Recommendations.ipynb\" target=\"_parent\"><img src=\"https://colab.research.google.com/assets/colab-badge.svg\" alt=\"Open In Colab\"/></a>"
      ]
    },
    {
      "cell_type": "code",
      "metadata": {
        "colab": {
          "base_uri": "https://localhost:8080/"
        },
        "id": "U9JKmWrfMQfk",
        "outputId": "09022ab9-03d6-4eab-b05d-08f740c5ddbf"
      },
      "source": [
        "import numpy as np\n",
        "import pandas as pd\n",
        "from sklearn.feature_extraction.text import CountVectorizer\n",
        "from sklearn.metrics.pairwise import cosine_similarity\n",
        "\n",
        "def get_title_from_index(index):\n",
        "  return df[df.index ==index][\"title\"].values[0]\n",
        "\n",
        "def get_index_from_title(title):\n",
        "  return df[df.title==title][\"index\"].values[0]\n",
        "\n",
        "df= pd.read_csv('/content/movie_dataset.csv')\n",
        "#print(df.columns)\n",
        "features = [\"keywords\", \"cast\",\"genres\",\"director\"]\n",
        "for feature in features:\n",
        "  df[feature]=df[feature].fillna(\"  \")\n",
        "def combine_features(row):\n",
        "  try:\n",
        "     return row[\"keywords\"] + \" \" + row[\"cast\"] + \" \" + row[\"genres\"] + \" \" +row[\"director\"]\n",
        "  except:\n",
        "    print (\"Error:\",row)\n",
        "df[\"combine_features\"]= df.apply(combine_features,axis=1)\n",
        "print(\"Combine Features: \" , df[\"combine_features\"].head())\n",
        "\n",
        "\n",
        "cv= CountVectorizer()\n",
        "count_matrix=cv.fit_transform(df[\"combine_features\"])\n",
        "\n",
        "cosine_sim=cosine_similarity(count_matrix)\n",
        "\n",
        "movie_user_likes= \"Avatar\"\n",
        "\n",
        "movie_index= get_index_from_title(movie_user_likes)\n",
        "similar_movies =list(enumerate(cosine_sim[movie_index]))\n",
        "sorted_similar_movies=sorted(similar_movies,key=lambda x:x[1],reverse=True)\n",
        "\n",
        "i=0\n",
        "for movie in sorted_similar_movies:\n",
        "  print(get_title_from_index(movie[0]))\n",
        "  i+=1\n",
        "  if i>50:\n",
        "    break\n"
      ],
      "execution_count": null,
      "outputs": [
        {
          "output_type": "stream",
          "text": [
            "Combine Features:  0    culture clash future space war space colony so...\n",
            "1    ocean drug abuse exotic island east india trad...\n",
            "2    spy based on novel secret agent sequel mi6 Dan...\n",
            "3    dc comics crime fighter terrorist secret ident...\n",
            "4    based on novel mars medallion space travel pri...\n",
            "Name: combine_features, dtype: object\n",
            "Avatar\n",
            "Guardians of the Galaxy\n",
            "Aliens\n",
            "Star Wars: Clone Wars: Volume 1\n",
            "Star Trek Into Darkness\n",
            "Star Trek Beyond\n",
            "Alien\n",
            "Lockout\n",
            "Jason X\n",
            "The Helix... Loaded\n",
            "Moonraker\n",
            "Planet of the Apes\n",
            "Galaxy Quest\n",
            "Gravity\n",
            "Alien³\n",
            "Jupiter Ascending\n",
            "The Wolverine\n",
            "Silent Running\n",
            "Zathura: A Space Adventure\n",
            "Trekkies\n",
            "Cargo\n",
            "Wing Commander\n",
            "Star Trek\n",
            "Lost in Space\n",
            "Babylon A.D.\n",
            "The Fifth Element\n",
            "Oblivion\n",
            "Titan A.E.\n",
            "AVP: Alien vs. Predator\n",
            "The Empire Strikes Back\n",
            "Dragonball Evolution\n",
            "Superman Returns\n",
            "Divergent\n",
            "John Carter\n",
            "The Black Hole\n",
            "The Ice Pirates\n",
            "Memoirs of an Invisible Man\n",
            "Starship Troopers\n",
            "The Astronaut's Wife\n",
            "Machete Kills\n",
            "Soldier\n",
            "The Abyss\n",
            "Damnation Alley\n",
            "Men in Black\n",
            "Space Cowboys\n",
            "Space Dogs\n",
            "The Time Machine\n",
            "Sheena\n",
            "Captain America: Civil War\n",
            "Star Trek: Insurrection\n",
            "Oz: The Great and Powerful\n"
          ],
          "name": "stdout"
        }
      ]
    },
    {
      "cell_type": "code",
      "metadata": {
        "id": "ToSl64CImqgp"
      },
      "source": [
        ""
      ],
      "execution_count": null,
      "outputs": []
    }
  ]
}